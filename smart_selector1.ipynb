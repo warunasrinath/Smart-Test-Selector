{
 "cells": [
  {
   "cell_type": "code",
   "execution_count": 22,
   "metadata": {},
   "outputs": [
    {
     "name": "stdout",
     "output_type": "stream",
     "text": [
      "                                          Code Changes   \n",
      "0    if x > 5:\\n    result = x * 2\\nelse:\\n    resu...  \\\n",
      "1    from database import connect_db\\n\\ndef get_use...   \n",
      "2    def divide(a, b):\\n    return a / b\\n\\n\\ndef t...   \n",
      "3    class Calculator:\\n    def add(self, a, b):\\n ...   \n",
      "4    def process_data(data):\\n    if data:\\n       ...   \n",
      "..                                                 ...   \n",
      "195  def perform_calculation(a, b, operation='add')...   \n",
      "196  class Stack:\\n    def __init__(self):\\n       ...   \n",
      "197  def analyze_data(data, analysis_type='basic'):...   \n",
      "198  def calculate_area(base, height, shape='triang...   \n",
      "199  class EmailSender:\\n    def __init__(self, smt...   \n",
      "\n",
      "    Smart Test Selection Mechanism  \n",
      "0           Changed Code Selection  \n",
      "1       Dependency-Based Selection  \n",
      "2     Historical Failure Selection  \n",
      "3        Coverage-Driven Selection  \n",
      "4        Impact Analysis Selection  \n",
      "..                             ...  \n",
      "195       Priority Queue Selection  \n",
      "196     Dependency-Based Selection  \n",
      "197   Historical Failure Selection  \n",
      "198      Impact Analysis Selection  \n",
      "199       Priority Queue Selection  \n",
      "\n",
      "[200 rows x 2 columns]\n"
     ]
    }
   ],
   "source": [
    "#tensorflow way\n",
    "import pandas as pd\n",
    "\n",
    "df = pd.read_csv('csv.csv')\n",
    "print(df)"
   ]
  },
  {
   "cell_type": "code",
   "execution_count": 23,
   "metadata": {},
   "outputs": [
    {
     "name": "stdout",
     "output_type": "stream",
     "text": [
      "['Changed Code Selection' 'Dependency-Based Selection'\n",
      " 'Historical Failure Selection' 'Coverage-Driven Selection'\n",
      " 'Impact Analysis Selection' 'Priority Queue Selection']\n"
     ]
    }
   ],
   "source": [
    "#get the unique categories of Smart Test Selection Mechanism\n",
    "unique_categories = df['Smart Test Selection Mechanism'].unique()\n",
    "#count the num of unique categories\n",
    "num_categories =len(unique_categories)\n",
    "\n",
    "print(unique_categories)"
   ]
  },
  {
   "cell_type": "code",
   "execution_count": 24,
   "metadata": {},
   "outputs": [
    {
     "name": "stdout",
     "output_type": "stream",
     "text": [
      "Epoch 1/10\n",
      "7/7 [==============================] - 2s 43ms/step - loss: 1.7786 - accuracy: 0.3250\n",
      "Epoch 2/10\n",
      "7/7 [==============================] - 0s 46ms/step - loss: 1.7030 - accuracy: 0.6700\n",
      "Epoch 3/10\n",
      "7/7 [==============================] - 0s 46ms/step - loss: 1.5674 - accuracy: 0.4750\n",
      "Epoch 4/10\n",
      "7/7 [==============================] - 0s 44ms/step - loss: 1.3862 - accuracy: 0.5700\n",
      "Epoch 5/10\n",
      "7/7 [==============================] - 0s 47ms/step - loss: 1.1516 - accuracy: 0.6250\n",
      "Epoch 6/10\n",
      "7/7 [==============================] - 0s 47ms/step - loss: 0.9166 - accuracy: 0.7250\n",
      "Epoch 7/10\n",
      "7/7 [==============================] - 0s 48ms/step - loss: 0.7822 - accuracy: 0.7500\n",
      "Epoch 8/10\n",
      "7/7 [==============================] - 0s 47ms/step - loss: 0.6161 - accuracy: 0.8150\n",
      "Epoch 9/10\n",
      "7/7 [==============================] - 0s 62ms/step - loss: 0.5206 - accuracy: 0.8350\n",
      "Epoch 10/10\n",
      "7/7 [==============================] - 0s 70ms/step - loss: 0.4072 - accuracy: 0.8550\n"
     ]
    },
    {
     "data": {
      "text/plain": [
       "<keras.callbacks.History at 0x27792de6dd0>"
      ]
     },
     "execution_count": 24,
     "metadata": {},
     "output_type": "execute_result"
    }
   ],
   "source": [
    "import numpy as np\n",
    "from sklearn.preprocessing import LabelEncoder\n",
    "from tensorflow.keras.utils import to_categorical\n",
    "from tensorflow.keras.preprocessing.text import Tokenizer\n",
    "from tensorflow.keras.preprocessing.sequence import pad_sequences\n",
    "from tensorflow.keras.models import Sequential\n",
    "from tensorflow.keras.layers import Embedding, LSTM, Dense\n",
    "\n",
    "# Assuming your data is in a pandas DataFrame called 'df'\n",
    "code_changes = df['Code Changes'].tolist()\n",
    "smart_test_selection = df['Smart Test Selection Mechanism'].tolist()\n",
    "\n",
    "# Tokenization\n",
    "tokenizer = Tokenizer()\n",
    "tokenizer.fit_on_texts(code_changes)\n",
    "total_words = len(tokenizer.word_index) + 1\n",
    "\n",
    "# Convert text to sequences\n",
    "input_sequences = tokenizer.texts_to_sequences(code_changes)\n",
    "\n",
    "# Padding sequences for consistent input size\n",
    "input_sequences = pad_sequences(input_sequences)\n",
    "\n",
    "# Convert 'smart_test_selection' to one-hot encoded format\n",
    "label_encoder = LabelEncoder()\n",
    "encoded_labels = label_encoder.fit_transform(smart_test_selection)\n",
    "one_hot_labels = to_categorical(encoded_labels)\n",
    "\n",
    "# Model\n",
    "model = Sequential()\n",
    "model.add(Embedding(total_words, 100, input_length=input_sequences.shape[1]))\n",
    "model.add(LSTM(100))\n",
    "model.add(Dense(len(set(smart_test_selection)), activation='softmax'))\n",
    "\n",
    "# Compile the model\n",
    "model.compile(optimizer='adam', loss='categorical_crossentropy', metrics=['accuracy'])\n",
    "\n",
    "# Train the model\n",
    "model.fit(input_sequences, one_hot_labels, epochs=10, verbose=1)\n"
   ]
  },
  {
   "cell_type": "code",
   "execution_count": 25,
   "metadata": {},
   "outputs": [],
   "source": [
    "#tensorflow model save\n",
    "# Save the entire model (architecture and weights)\n",
    "model.save(\"smart_test_model.h5\")"
   ]
  },
  {
   "cell_type": "code",
   "execution_count": 33,
   "metadata": {},
   "outputs": [
    {
     "name": "stdout",
     "output_type": "stream",
     "text": [
      "1/1 [==============================] - 0s 394ms/step\n",
      "The predicted Smart Test Selection Mechanism is: Dependency-Based Selection\n"
     ]
    }
   ],
   "source": [
    "import tensorflow as tf\n",
    "from tensorflow.keras.preprocessing.sequence import pad_sequences\n",
    "import numpy as np\n",
    "\n",
    "# Load the model\n",
    "loaded_model = tf.keras.models.load_model(\"smart_test_model.h5\")\n",
    "\n",
    "# Assuming 'new_code_snippet' is the new Python code snippet you want to predict on\n",
    "# new_code_snippet = \"\"\"\n",
    "\n",
    "# class BankAccount:\n",
    "#     def __init__(self, account_holder, balance=0):\n",
    "#         self.account_holder = account_holder\n",
    "#         self.balance = balance\n",
    "\n",
    "#     def deposit(self, amount):\n",
    "#         if amount > 0:\n",
    "#             self.balance += amount\n",
    "#             print(f\"Deposited ${amount}. New balance: ${self.balance}\")\n",
    "#         else:\n",
    "#             print(\"Invalid deposit amount.\")\n",
    "\n",
    "#     def withdraw(self, amount):\n",
    "#         if 0 < amount <= self.balance:\n",
    "#             self.balance -= amount\n",
    "#             print(f\"Withdrew ${amount}. New balance: ${self.balance}\")\n",
    "#         else:\n",
    "#             print(\"Invalid withdrawal amount or insufficient funds.\")\n",
    "\n",
    "#     def get_balance(self):\n",
    "#         return self.balance\n",
    "\n",
    "\n",
    "# # Example usage of the BankAccount class\n",
    "# if __name__ == \"__main__\":\n",
    "#     # Create a new account\n",
    "#     account1 = BankAccount(\"John Doe\", 1000)\n",
    "\n",
    "#     # Deposit and withdraw funds\n",
    "#     account1.deposit(500)\n",
    "#     account1.withdraw(200)\n",
    "\n",
    "#     # Check the account balance\n",
    "#     current_balance = account1.get_balance()\n",
    "#     print(f\"Current balance: ${current_balance}\")\n",
    "\n",
    "\n",
    "# \"\"\"  # Example code snippet\n",
    "\n",
    "new_code_sequence=\"\"\"\n",
    "\n",
    "from utils import sanitize_input\\n\\ndef clean_input(input_data):\\n    return sanitize_input(input_data)\n",
    "\n",
    "\"\"\"\n",
    "\n",
    "# Tokenize and pad the new code snippet\n",
    "new_code_sequence = tokenizer.texts_to_sequences([new_code_snippet])\n",
    "padded_new_code_sequence = pad_sequences(new_code_sequence, maxlen=input_sequences.shape[1])\n",
    "\n",
    "# Make predictions using the loaded model\n",
    "predicted_probabilities = loaded_model.predict(padded_new_code_sequence)\n",
    "\n",
    "# Get the index of the class with the highest probability\n",
    "predicted_class_index = np.argmax(predicted_probabilities)\n",
    "\n",
    "# Convert the predicted class index back to the original label\n",
    "predicted_label = label_encoder.inverse_transform([predicted_class_index])\n",
    "\n",
    "print(f\"The predicted Smart Test Selection Mechanism is: {predicted_label[0]}\")\n"
   ]
  },
  {
   "cell_type": "code",
   "execution_count": 34,
   "metadata": {},
   "outputs": [],
   "source": [
    "#label_encoder.pkl save\n",
    "import pickle\n",
    "\n",
    "# Assuming 'label_encoder' is the trained label encoder object\n",
    "label_encoder_path = 'label_encoder.pkl'\n",
    "\n",
    "with open(label_encoder_path, 'wb') as label_encoder_file:\n",
    "    pickle.dump(label_encoder, label_encoder_file)"
   ]
  },
  {
   "cell_type": "code",
   "execution_count": 35,
   "metadata": {},
   "outputs": [],
   "source": [
    "#tokenizer.pkl save\n",
    "import pickle\n",
    "\n",
    "# Save the tokenizer to a file\n",
    "tokenizer_path = 'tokenizer.pkl'\n",
    "with open(tokenizer_path, 'wb') as tokenizer_file:\n",
    "    pickle.dump(tokenizer, tokenizer_file)\n"
   ]
  },
  {
   "cell_type": "code",
   "execution_count": null,
   "metadata": {},
   "outputs": [],
   "source": []
  }
 ],
 "metadata": {
  "kernelspec": {
   "display_name": "tensorflow",
   "language": "python",
   "name": "python3"
  },
  "language_info": {
   "codemirror_mode": {
    "name": "ipython",
    "version": 3
   },
   "file_extension": ".py",
   "mimetype": "text/x-python",
   "name": "python",
   "nbconvert_exporter": "python",
   "pygments_lexer": "ipython3",
   "version": "3.10.10"
  }
 },
 "nbformat": 4,
 "nbformat_minor": 2
}
